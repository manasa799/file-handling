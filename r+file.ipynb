{
 "cells": [
  {
   "cell_type": "code",
   "execution_count": 1,
   "id": "27d79c51-5006-48a8-a750-3b13e97dd8d0",
   "metadata": {},
   "outputs": [
    {
     "name": "stdout",
     "output_type": "stream",
     "text": [
      "latest data :\n",
      "my full name Madela Manasa.\n",
      "\n"
     ]
    },
    {
     "name": "stdin",
     "output_type": "stream",
     "text": [
      "\n",
      " enter the to overwrite from begining... manu\n"
     ]
    },
    {
     "name": "stdout",
     "output_type": "stream",
     "text": [
      "\n",
      " file after writing by r+\n",
      "manuull name Madela Manasa.\n",
      "\n"
     ]
    }
   ],
   "source": [
    "filename = 'root.txt'\n",
    "with open (filename , 'w')as f:\n",
    "    f.write (\"my full name Madela Manasa.\\n\")\n",
    "with open (filename , 'r+') as file:\n",
    "    print(\"latest data :\")\n",
    "    print(file.read())\n",
    "    file.seek(0)\n",
    "    userinput = input(\"\\n enter the to overwrite from begining...\")\n",
    "    file.write(userinput)\n",
    "    file.seek(0)\n",
    "    print(\"\\n file after writing by r+\")\n",
    "    print(file.read())"
   ]
  },
  {
   "cell_type": "code",
   "execution_count": null,
   "id": "eba6a7ff-6212-492e-b3a8-0e8d06b35306",
   "metadata": {},
   "outputs": [],
   "source": []
  }
 ],
 "metadata": {
  "kernelspec": {
   "display_name": "Python 3 (ipykernel)",
   "language": "python",
   "name": "python3"
  },
  "language_info": {
   "codemirror_mode": {
    "name": "ipython",
    "version": 3
   },
   "file_extension": ".py",
   "mimetype": "text/x-python",
   "name": "python",
   "nbconvert_exporter": "python",
   "pygments_lexer": "ipython3",
   "version": "3.12.7"
  }
 },
 "nbformat": 4,
 "nbformat_minor": 5
}
